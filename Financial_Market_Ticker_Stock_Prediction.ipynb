{
  "nbformat": 4,
  "nbformat_minor": 0,
  "metadata": {
    "colab": {
      "provenance": [],
      "include_colab_link": true
    },
    "kernelspec": {
      "name": "python3",
      "display_name": "Python 3"
    },
    "language_info": {
      "name": "python"
    }
  },
  "cells": [
    {
      "cell_type": "markdown",
      "metadata": {
        "id": "view-in-github",
        "colab_type": "text"
      },
      "source": [
        "<a href=\"https://colab.research.google.com/github/geetha1811/ticker-detection-using-ml/blob/main/Financial_Market_Ticker_Stock_Prediction.ipynb\" target=\"_parent\"><img src=\"https://colab.research.google.com/assets/colab-badge.svg\" alt=\"Open In Colab\"/></a>"
      ]
    },
    {
      "cell_type": "code",
      "execution_count": null,
      "metadata": {
        "id": "3eTtp2I2DJMZ"
      },
      "outputs": [],
      "source": [
        "# Importing necessary libraries\n",
        "import numpy as np\n",
        "import pandas as pd\n",
        "import matplotlib.pyplot as plt\n",
        "from sklearn.model_selection import train_test_split\n",
        "from sklearn.preprocessing import StandardScaler\n",
        "from sklearn.linear_model import LogisticRegression\n",
        "from sklearn.tree import DecisionTreeClassifier\n",
        "from sklearn.ensemble import RandomForestClassifier\n",
        "from sklearn.neighbors import KNeighborsClassifier\n",
        "from sklearn.metrics import accuracy_score\n",
        "from statsmodels.tsa.arima.model import ARIMA\n",
        "from sklearn.metrics import mean_squared_error\n",
        "from keras.models import Sequential\n",
        "from keras.layers import Dense, LSTM\n",
        "from tensorflow import keras\n",
        "from statsmodels.tsa.arima.model import ARIMA\n",
        "from sklearn.metrics import mean_squared_error"
      ]
    },
    {
      "cell_type": "code",
      "source": [
        "# Load dataset (replace 'data.csv' with your dataset)\n",
        "data = pd.read_csv('Financial_Market_Stock_Price.csv')"
      ],
      "metadata": {
        "id": "fnVQQajTDOK6",
        "colab": {
          "base_uri": "https://localhost:8080/"
        },
        "outputId": "70f8ff85-1caa-4eeb-9b3f-c41a8d514686"
      },
      "execution_count": null,
      "outputs": [
        {
          "output_type": "stream",
          "name": "stderr",
          "text": [
            "<ipython-input-28-ae95c8a0ed2d>:2: DtypeWarning: Columns (0,1) have mixed types. Specify dtype option on import or set low_memory=False.\n",
            "  data = pd.read_csv('Financial_Market_Stock_Price.csv')\n"
          ]
        }
      ]
    },
    {
      "cell_type": "code",
      "source": [
        "print(data.head)\n",
        "print(data.tail)\n",
        "print(data.describe)"
      ],
      "metadata": {
        "colab": {
          "base_uri": "https://localhost:8080/"
        },
        "id": "SZJg6O3V_z7w",
        "outputId": "0e36590e-aaed-4bc0-b698-55b1ab707e1e"
      },
      "execution_count": null,
      "outputs": [
        {
          "output_type": "stream",
          "name": "stdout",
          "text": [
            "<bound method NDFrame.head of           Symbol Stock Series  Prev Close  Open_StockPrice  High_StockPrice  \\\n",
            "0      HEROHONDA        NIFTY     1145.20           1800.0          1835.05   \n",
            "1      HEROHONDA        NIFTY     1207.60           1960.0          1960.00   \n",
            "2      HEROHONDA        NIFTY     1199.85           1845.0          1845.00   \n",
            "3      HEROHONDA        NIFTY     1143.80           1750.0          1795.00   \n",
            "4      HEROHONDA        NIFTY     1161.40           1705.0          1705.00   \n",
            "...          ...          ...         ...              ...              ...   \n",
            "80998        NaN          NaN         NaN              NaN              NaN   \n",
            "80999        NaN          NaN         NaN              NaN              NaN   \n",
            "81000        NaN          NaN         NaN              NaN              NaN   \n",
            "81001        NaN          NaN         NaN              NaN              NaN   \n",
            "81002        NaN          NaN         NaN              NaN              NaN   \n",
            "\n",
            "       Low_StockPrice  Last_StockPrice  Close_StockPrice     VWAP  \\\n",
            "0              1760.0          1835.05           1835.05  1825.90   \n",
            "1              1763.0          1811.50           1810.45  1805.97   \n",
            "2              1740.0          1745.00           1746.90  1766.69   \n",
            "3              1735.0          1748.00           1745.20  1749.32   \n",
            "4              1605.6          1605.60           1605.60  1621.51   \n",
            "...               ...              ...               ...      ...   \n",
            "80998             NaN              NaN               NaN      NaN   \n",
            "80999             NaN              NaN               NaN      NaN   \n",
            "81000             NaN              NaN               NaN      NaN   \n",
            "81001             NaN              NaN               NaN      NaN   \n",
            "81002             NaN              NaN               NaN      NaN   \n",
            "\n",
            "       Volume_StockPrice  Annual_Stock  Stock_Price  Deliverables_Volume  \\\n",
            "0               112100.0  2.990000e+11     192262.0             471784.0   \n",
            "1               234500.0  6.390000e+11     191792.0             443899.0   \n",
            "2               170100.0  4.460000e+11     191050.0             407935.0   \n",
            "3               102100.0  2.680000e+11     182902.0             383200.0   \n",
            "4                62600.0  1.570000e+11     166188.0             366168.0   \n",
            "...                  ...           ...          ...                  ...   \n",
            "80998                NaN           NaN          NaN                  NaN   \n",
            "80999                NaN           NaN          NaN                  NaN   \n",
            "81000                NaN           NaN          NaN                  NaN   \n",
            "81001                NaN           NaN          NaN                  NaN   \n",
            "81002                NaN           NaN          NaN                  NaN   \n",
            "\n",
            "      Company_Stock_Names  Marketing  Administration  Global Market ID  \\\n",
            "0                    HDFC     471784          136898               452   \n",
            "1                   ICICI     443899          151378               413   \n",
            "2                     SBI     407935          101146               385   \n",
            "3                     TCS     383200          118672               390   \n",
            "4                  AMAZON     366168           91392               393   \n",
            "...                   ...        ...             ...               ...   \n",
            "80998              Amazon     361692          401652            118537   \n",
            "80999              Amazon     361693          401653            118538   \n",
            "81000              Amazon     361694          401654            118539   \n",
            "81001              Amazon     361695          401655            118540   \n",
            "81002              Amazon     361696          401656            118541   \n",
            "\n",
            "            Stock Order ID  Stock Data ID  Stock Data Profit  \n",
            "0      405-8078784-5731545          648.0            94107.0  \n",
            "1      171-9198151-1101146          406.0            94114.0  \n",
            "2      404-0687676-7273146          329.0              432.0  \n",
            "3      403-9615377-8133951          753.0            94103.0  \n",
            "4      407-1069790-7240320          574.0            94612.0  \n",
            "...                    ...            ...                ...  \n",
            "80998  408-0017548-4066747            0.0           174020.0  \n",
            "80999  407-2405614-8609943          836.0           174021.0  \n",
            "81000  402-5765688-9655515         1409.0           174022.0  \n",
            "81001  408-9040835-0604327          328.0           174023.0  \n",
            "81002  405-6160428-6333969            NaN                NaN  \n",
            "\n",
            "[81003 rows x 20 columns]>\n",
            "<bound method NDFrame.tail of           Symbol Stock Series  Prev Close  Open_StockPrice  High_StockPrice  \\\n",
            "0      HEROHONDA        NIFTY     1145.20           1800.0          1835.05   \n",
            "1      HEROHONDA        NIFTY     1207.60           1960.0          1960.00   \n",
            "2      HEROHONDA        NIFTY     1199.85           1845.0          1845.00   \n",
            "3      HEROHONDA        NIFTY     1143.80           1750.0          1795.00   \n",
            "4      HEROHONDA        NIFTY     1161.40           1705.0          1705.00   \n",
            "...          ...          ...         ...              ...              ...   \n",
            "80998        NaN          NaN         NaN              NaN              NaN   \n",
            "80999        NaN          NaN         NaN              NaN              NaN   \n",
            "81000        NaN          NaN         NaN              NaN              NaN   \n",
            "81001        NaN          NaN         NaN              NaN              NaN   \n",
            "81002        NaN          NaN         NaN              NaN              NaN   \n",
            "\n",
            "       Low_StockPrice  Last_StockPrice  Close_StockPrice     VWAP  \\\n",
            "0              1760.0          1835.05           1835.05  1825.90   \n",
            "1              1763.0          1811.50           1810.45  1805.97   \n",
            "2              1740.0          1745.00           1746.90  1766.69   \n",
            "3              1735.0          1748.00           1745.20  1749.32   \n",
            "4              1605.6          1605.60           1605.60  1621.51   \n",
            "...               ...              ...               ...      ...   \n",
            "80998             NaN              NaN               NaN      NaN   \n",
            "80999             NaN              NaN               NaN      NaN   \n",
            "81000             NaN              NaN               NaN      NaN   \n",
            "81001             NaN              NaN               NaN      NaN   \n",
            "81002             NaN              NaN               NaN      NaN   \n",
            "\n",
            "       Volume_StockPrice  Annual_Stock  Stock_Price  Deliverables_Volume  \\\n",
            "0               112100.0  2.990000e+11     192262.0             471784.0   \n",
            "1               234500.0  6.390000e+11     191792.0             443899.0   \n",
            "2               170100.0  4.460000e+11     191050.0             407935.0   \n",
            "3               102100.0  2.680000e+11     182902.0             383200.0   \n",
            "4                62600.0  1.570000e+11     166188.0             366168.0   \n",
            "...                  ...           ...          ...                  ...   \n",
            "80998                NaN           NaN          NaN                  NaN   \n",
            "80999                NaN           NaN          NaN                  NaN   \n",
            "81000                NaN           NaN          NaN                  NaN   \n",
            "81001                NaN           NaN          NaN                  NaN   \n",
            "81002                NaN           NaN          NaN                  NaN   \n",
            "\n",
            "      Company_Stock_Names  Marketing  Administration  Global Market ID  \\\n",
            "0                    HDFC     471784          136898               452   \n",
            "1                   ICICI     443899          151378               413   \n",
            "2                     SBI     407935          101146               385   \n",
            "3                     TCS     383200          118672               390   \n",
            "4                  AMAZON     366168           91392               393   \n",
            "...                   ...        ...             ...               ...   \n",
            "80998              Amazon     361692          401652            118537   \n",
            "80999              Amazon     361693          401653            118538   \n",
            "81000              Amazon     361694          401654            118539   \n",
            "81001              Amazon     361695          401655            118540   \n",
            "81002              Amazon     361696          401656            118541   \n",
            "\n",
            "            Stock Order ID  Stock Data ID  Stock Data Profit  \n",
            "0      405-8078784-5731545          648.0            94107.0  \n",
            "1      171-9198151-1101146          406.0            94114.0  \n",
            "2      404-0687676-7273146          329.0              432.0  \n",
            "3      403-9615377-8133951          753.0            94103.0  \n",
            "4      407-1069790-7240320          574.0            94612.0  \n",
            "...                    ...            ...                ...  \n",
            "80998  408-0017548-4066747            0.0           174020.0  \n",
            "80999  407-2405614-8609943          836.0           174021.0  \n",
            "81000  402-5765688-9655515         1409.0           174022.0  \n",
            "81001  408-9040835-0604327          328.0           174023.0  \n",
            "81002  405-6160428-6333969            NaN                NaN  \n",
            "\n",
            "[81003 rows x 20 columns]>\n",
            "<bound method NDFrame.describe of           Symbol Stock Series  Prev Close  Open_StockPrice  High_StockPrice  \\\n",
            "0      HEROHONDA        NIFTY     1145.20           1800.0          1835.05   \n",
            "1      HEROHONDA        NIFTY     1207.60           1960.0          1960.00   \n",
            "2      HEROHONDA        NIFTY     1199.85           1845.0          1845.00   \n",
            "3      HEROHONDA        NIFTY     1143.80           1750.0          1795.00   \n",
            "4      HEROHONDA        NIFTY     1161.40           1705.0          1705.00   \n",
            "...          ...          ...         ...              ...              ...   \n",
            "80998        NaN          NaN         NaN              NaN              NaN   \n",
            "80999        NaN          NaN         NaN              NaN              NaN   \n",
            "81000        NaN          NaN         NaN              NaN              NaN   \n",
            "81001        NaN          NaN         NaN              NaN              NaN   \n",
            "81002        NaN          NaN         NaN              NaN              NaN   \n",
            "\n",
            "       Low_StockPrice  Last_StockPrice  Close_StockPrice     VWAP  \\\n",
            "0              1760.0          1835.05           1835.05  1825.90   \n",
            "1              1763.0          1811.50           1810.45  1805.97   \n",
            "2              1740.0          1745.00           1746.90  1766.69   \n",
            "3              1735.0          1748.00           1745.20  1749.32   \n",
            "4              1605.6          1605.60           1605.60  1621.51   \n",
            "...               ...              ...               ...      ...   \n",
            "80998             NaN              NaN               NaN      NaN   \n",
            "80999             NaN              NaN               NaN      NaN   \n",
            "81000             NaN              NaN               NaN      NaN   \n",
            "81001             NaN              NaN               NaN      NaN   \n",
            "81002             NaN              NaN               NaN      NaN   \n",
            "\n",
            "       Volume_StockPrice  Annual_Stock  Stock_Price  Deliverables_Volume  \\\n",
            "0               112100.0  2.990000e+11     192262.0             471784.0   \n",
            "1               234500.0  6.390000e+11     191792.0             443899.0   \n",
            "2               170100.0  4.460000e+11     191050.0             407935.0   \n",
            "3               102100.0  2.680000e+11     182902.0             383200.0   \n",
            "4                62600.0  1.570000e+11     166188.0             366168.0   \n",
            "...                  ...           ...          ...                  ...   \n",
            "80998                NaN           NaN          NaN                  NaN   \n",
            "80999                NaN           NaN          NaN                  NaN   \n",
            "81000                NaN           NaN          NaN                  NaN   \n",
            "81001                NaN           NaN          NaN                  NaN   \n",
            "81002                NaN           NaN          NaN                  NaN   \n",
            "\n",
            "      Company_Stock_Names  Marketing  Administration  Global Market ID  \\\n",
            "0                    HDFC     471784          136898               452   \n",
            "1                   ICICI     443899          151378               413   \n",
            "2                     SBI     407935          101146               385   \n",
            "3                     TCS     383200          118672               390   \n",
            "4                  AMAZON     366168           91392               393   \n",
            "...                   ...        ...             ...               ...   \n",
            "80998              Amazon     361692          401652            118537   \n",
            "80999              Amazon     361693          401653            118538   \n",
            "81000              Amazon     361694          401654            118539   \n",
            "81001              Amazon     361695          401655            118540   \n",
            "81002              Amazon     361696          401656            118541   \n",
            "\n",
            "            Stock Order ID  Stock Data ID  Stock Data Profit  \n",
            "0      405-8078784-5731545          648.0            94107.0  \n",
            "1      171-9198151-1101146          406.0            94114.0  \n",
            "2      404-0687676-7273146          329.0              432.0  \n",
            "3      403-9615377-8133951          753.0            94103.0  \n",
            "4      407-1069790-7240320          574.0            94612.0  \n",
            "...                    ...            ...                ...  \n",
            "80998  408-0017548-4066747            0.0           174020.0  \n",
            "80999  407-2405614-8609943          836.0           174021.0  \n",
            "81000  402-5765688-9655515         1409.0           174022.0  \n",
            "81001  408-9040835-0604327          328.0           174023.0  \n",
            "81002  405-6160428-6333969            NaN                NaN  \n",
            "\n",
            "[81003 rows x 20 columns]>\n"
          ]
        }
      ]
    },
    {
      "cell_type": "code",
      "source": [
        "# Create target variable for classification (1 if next day's closing price is higher, 0 otherwise)\n",
        "data['Target'] = (data['Stock_Price'].shift(-1) > data['Stock_Price']).astype(int)"
      ],
      "metadata": {
        "id": "uBzxGdkXAAG1"
      },
      "execution_count": null,
      "outputs": []
    },
    {
      "cell_type": "code",
      "source": [
        "# Drop rows with NaN values\n",
        "data.dropna(inplace=True)"
      ],
      "metadata": {
        "id": "njkkFDYxACox"
      },
      "execution_count": null,
      "outputs": []
    },
    {
      "cell_type": "code",
      "source": [
        "# Gathering the Companies Strategies Information\n",
        "scaler = StandardScaler()\n",
        "scaled_data = scaler.fit_transform(data[['Stock_Price', 'High_StockPrice', 'Low_StockPrice', 'Close_StockPrice']])\n",
        "print(scaled_data)"
      ],
      "metadata": {
        "colab": {
          "base_uri": "https://localhost:8080/"
        },
        "id": "g5_oaHdqAGFD",
        "outputId": "045683c1-42c0-412c-8b7f-9aa404b64e42"
      },
      "execution_count": null,
      "outputs": [
        {
          "output_type": "stream",
          "name": "stdout",
          "text": [
            "[[-1.18768875  2.90747415  2.89819033  3.01132663]\n",
            " [-1.19310907  3.24561404  2.90666409  2.94324428]\n",
            " [-1.20166624  2.93440086  2.84169859  2.7673649 ]\n",
            " ...\n",
            " [ 0.49612642 -0.30681682 -0.27014904 -0.28665396]\n",
            " [ 0.49613795 -0.29409767 -0.2622402  -0.28360962]\n",
            " [ 0.49614949 -0.25458713 -0.26506478 -0.25607225]]\n"
          ]
        }
      ]
    },
    {
      "cell_type": "code",
      "source": [
        "# Create features and target variable\n",
        "X = scaled_data[:, :-1]\n",
        "y = data['Target'].values"
      ],
      "metadata": {
        "id": "c_THD9lgDQtG"
      },
      "execution_count": null,
      "outputs": []
    },
    {
      "cell_type": "code",
      "source": [
        "# Splitting the dataset into training and testing sets\n",
        "X_train, X_test, y_train, y_test = train_test_split(X, y, test_size=0.2, random_state=42)"
      ],
      "metadata": {
        "id": "--YFrMijDWlB"
      },
      "execution_count": null,
      "outputs": []
    },
    {
      "cell_type": "code",
      "source": [
        "# Standardizing the features\n",
        "scaler = StandardScaler()\n",
        "X_train = scaler.fit_transform(X_train)\n",
        "X_test = scaler.transform(X_test)"
      ],
      "metadata": {
        "id": "fml9mtDBDZbD"
      },
      "execution_count": null,
      "outputs": []
    },
    {
      "cell_type": "code",
      "source": [
        "# Logistic Regression\n",
        "log_reg = LogisticRegression()\n",
        "log_reg.fit(X_train, y_train)\n",
        "log_reg_pred = log_reg.predict(X_test)\n",
        "log_reg_accuracy = accuracy_score(y_test, log_reg_pred)"
      ],
      "metadata": {
        "id": "CtyOd7E8DcOQ"
      },
      "execution_count": null,
      "outputs": []
    },
    {
      "cell_type": "code",
      "source": [
        "# Decision Tree Classifier\n",
        "dt_classifier = DecisionTreeClassifier()\n",
        "dt_classifier.fit(X_train, y_train)\n",
        "dt_pred = dt_classifier.predict(X_test)\n",
        "dt_accuracy = accuracy_score(y_test, dt_pred)"
      ],
      "metadata": {
        "id": "5xRBkPd2DfFi"
      },
      "execution_count": null,
      "outputs": []
    },
    {
      "cell_type": "code",
      "source": [
        "# Random Forest Classifier\n",
        "rf_classifier = RandomForestClassifier()\n",
        "rf_classifier.fit(X_train, y_train)\n",
        "rf_pred = rf_classifier.predict(X_test)\n",
        "rf_accuracy = accuracy_score(y_test, rf_pred)"
      ],
      "metadata": {
        "id": "owKxUgPxDhx-"
      },
      "execution_count": null,
      "outputs": []
    },
    {
      "cell_type": "code",
      "source": [
        "# K-Nearest Neighbors Classifier\n",
        "knn_classifier = KNeighborsClassifier()\n",
        "knn_classifier.fit(X_train, y_train)\n",
        "knn_pred = knn_classifier.predict(X_test)\n",
        "knn_accuracy = accuracy_score(y_test, knn_pred)"
      ],
      "metadata": {
        "id": "A41i5qMHDkjh"
      },
      "execution_count": null,
      "outputs": []
    },
    {
      "cell_type": "code",
      "source": [
        "# ARIMA Model\n",
        "# Assuming you have time series data for ARIMA\n",
        "# Splitting data for ARIMA\n",
        "train_data = data[:int(0.8*(len(data)))]\n",
        "test_data = data[int(0.8*(len(data))):]"
      ],
      "metadata": {
        "id": "MF0f4xzfDoFQ"
      },
      "execution_count": null,
      "outputs": []
    },
    {
      "cell_type": "code",
      "source": [
        "# LSTM Model\n",
        "# Assuming you have sequential data for LSTM\n",
        "# Reshape the data\n",
        "X_train_lstm = np.reshape(X_train, (X_train.shape[0], X_train.shape[1], 1))\n",
        "X_test_lstm = np.reshape(X_test, (X_test.shape[0], X_test.shape[1], 1))"
      ],
      "metadata": {
        "id": "QJqyU3s6D9Wd"
      },
      "execution_count": null,
      "outputs": []
    },
    {
      "cell_type": "code",
      "source": [
        "# Build LSTM model\n",
        "lstm_model = Sequential()\n",
        "lstm_model.add(LSTM(units=50, return_sequences=True, input_shape=(X_train_lstm.shape[1], 1)))\n",
        "lstm_model.add(LSTM(units=50, return_sequences=False))\n",
        "lstm_model.add(Dense(units=1))"
      ],
      "metadata": {
        "id": "qoWZhNwpEARt"
      },
      "execution_count": null,
      "outputs": []
    },
    {
      "cell_type": "code",
      "source": [
        "# Compile the model\n",
        "lstm_model.compile(optimizer='adam', loss='mean_squared_error')"
      ],
      "metadata": {
        "id": "BKTJO094EE22"
      },
      "execution_count": null,
      "outputs": []
    },
    {
      "cell_type": "code",
      "source": [
        "# Train the model\n",
        "lstm_model.fit(X_train_lstm, y_train, epochs=100, batch_size=32)"
      ],
      "metadata": {
        "id": "Gvx7fx1sEHov",
        "colab": {
          "base_uri": "https://localhost:8080/"
        },
        "outputId": "6732108c-eb21-4f56-f4d0-0b5de3f65e42"
      },
      "execution_count": null,
      "outputs": [
        {
          "output_type": "stream",
          "name": "stdout",
          "text": [
            "Epoch 1/100\n",
            "133/133 [==============================] - 5s 5ms/step - loss: 0.1982\n",
            "Epoch 2/100\n",
            "133/133 [==============================] - 1s 5ms/step - loss: 0.0521\n",
            "Epoch 3/100\n",
            "133/133 [==============================] - 1s 5ms/step - loss: 0.0470\n",
            "Epoch 4/100\n",
            "133/133 [==============================] - 1s 5ms/step - loss: 0.0400\n",
            "Epoch 5/100\n",
            "133/133 [==============================] - 1s 5ms/step - loss: 0.0354\n",
            "Epoch 6/100\n",
            "133/133 [==============================] - 1s 5ms/step - loss: 0.0333\n",
            "Epoch 7/100\n",
            "133/133 [==============================] - 1s 5ms/step - loss: 0.0326\n",
            "Epoch 8/100\n",
            "133/133 [==============================] - 1s 5ms/step - loss: 0.0318\n",
            "Epoch 9/100\n",
            "133/133 [==============================] - 1s 5ms/step - loss: 0.0313\n",
            "Epoch 10/100\n",
            "133/133 [==============================] - 1s 5ms/step - loss: 0.0312\n",
            "Epoch 11/100\n",
            "133/133 [==============================] - 1s 7ms/step - loss: 0.0320\n",
            "Epoch 12/100\n",
            "133/133 [==============================] - 1s 7ms/step - loss: 0.0311\n",
            "Epoch 13/100\n",
            "133/133 [==============================] - 1s 7ms/step - loss: 0.0308\n",
            "Epoch 14/100\n",
            "133/133 [==============================] - 1s 5ms/step - loss: 0.0313\n",
            "Epoch 15/100\n",
            "133/133 [==============================] - 1s 5ms/step - loss: 0.0304\n",
            "Epoch 16/100\n",
            "133/133 [==============================] - 1s 5ms/step - loss: 0.0316\n",
            "Epoch 17/100\n",
            "133/133 [==============================] - 1s 5ms/step - loss: 0.0308\n",
            "Epoch 18/100\n",
            "133/133 [==============================] - 1s 5ms/step - loss: 0.0299\n",
            "Epoch 19/100\n",
            "133/133 [==============================] - 1s 5ms/step - loss: 0.0304\n",
            "Epoch 20/100\n",
            "133/133 [==============================] - 1s 5ms/step - loss: 0.0313\n",
            "Epoch 21/100\n",
            "133/133 [==============================] - 1s 5ms/step - loss: 0.0298\n",
            "Epoch 22/100\n",
            "133/133 [==============================] - 1s 5ms/step - loss: 0.0306\n",
            "Epoch 23/100\n",
            "133/133 [==============================] - 1s 5ms/step - loss: 0.0305\n",
            "Epoch 24/100\n",
            "133/133 [==============================] - 1s 5ms/step - loss: 0.0300\n",
            "Epoch 25/100\n",
            "133/133 [==============================] - 1s 5ms/step - loss: 0.0296\n",
            "Epoch 26/100\n",
            "133/133 [==============================] - 1s 5ms/step - loss: 0.0299\n",
            "Epoch 27/100\n",
            "133/133 [==============================] - 1s 5ms/step - loss: 0.0301\n",
            "Epoch 28/100\n",
            "133/133 [==============================] - 1s 7ms/step - loss: 0.0299\n",
            "Epoch 29/100\n",
            "133/133 [==============================] - 1s 8ms/step - loss: 0.0296\n",
            "Epoch 30/100\n",
            "133/133 [==============================] - 1s 8ms/step - loss: 0.0300\n",
            "Epoch 31/100\n",
            "133/133 [==============================] - 1s 5ms/step - loss: 0.0298\n",
            "Epoch 32/100\n",
            "133/133 [==============================] - 1s 5ms/step - loss: 0.0300\n",
            "Epoch 33/100\n",
            "133/133 [==============================] - 1s 5ms/step - loss: 0.0298\n",
            "Epoch 34/100\n",
            "133/133 [==============================] - 1s 6ms/step - loss: 0.0295\n",
            "Epoch 35/100\n",
            "133/133 [==============================] - 1s 6ms/step - loss: 0.0304\n",
            "Epoch 36/100\n",
            "133/133 [==============================] - 1s 6ms/step - loss: 0.0294\n",
            "Epoch 37/100\n",
            "133/133 [==============================] - 1s 6ms/step - loss: 0.0295\n",
            "Epoch 38/100\n",
            "133/133 [==============================] - 1s 6ms/step - loss: 0.0291\n",
            "Epoch 39/100\n",
            "133/133 [==============================] - 1s 5ms/step - loss: 0.0298\n",
            "Epoch 40/100\n",
            "133/133 [==============================] - 1s 5ms/step - loss: 0.0298\n",
            "Epoch 41/100\n",
            "133/133 [==============================] - 1s 6ms/step - loss: 0.0296\n",
            "Epoch 42/100\n",
            "133/133 [==============================] - 1s 6ms/step - loss: 0.0296\n",
            "Epoch 43/100\n",
            "133/133 [==============================] - 1s 5ms/step - loss: 0.0295\n",
            "Epoch 44/100\n",
            "133/133 [==============================] - 1s 8ms/step - loss: 0.0293\n",
            "Epoch 45/100\n",
            "133/133 [==============================] - 1s 8ms/step - loss: 0.0291\n",
            "Epoch 46/100\n",
            "133/133 [==============================] - 1s 7ms/step - loss: 0.0296\n",
            "Epoch 47/100\n",
            "133/133 [==============================] - 1s 5ms/step - loss: 0.0298\n",
            "Epoch 48/100\n",
            "133/133 [==============================] - 1s 5ms/step - loss: 0.0295\n",
            "Epoch 49/100\n",
            "133/133 [==============================] - 1s 5ms/step - loss: 0.0297\n",
            "Epoch 50/100\n",
            "133/133 [==============================] - 1s 7ms/step - loss: 0.0296\n",
            "Epoch 51/100\n",
            "133/133 [==============================] - 1s 8ms/step - loss: 0.0296\n",
            "Epoch 52/100\n",
            "133/133 [==============================] - 1s 8ms/step - loss: 0.0296\n",
            "Epoch 53/100\n",
            "133/133 [==============================] - 1s 5ms/step - loss: 0.0295\n",
            "Epoch 54/100\n",
            "133/133 [==============================] - 1s 5ms/step - loss: 0.0299\n",
            "Epoch 55/100\n",
            "133/133 [==============================] - 1s 5ms/step - loss: 0.0298\n",
            "Epoch 56/100\n",
            "133/133 [==============================] - 1s 5ms/step - loss: 0.0295\n",
            "Epoch 57/100\n",
            "133/133 [==============================] - 1s 5ms/step - loss: 0.0292\n",
            "Epoch 58/100\n",
            "133/133 [==============================] - 1s 5ms/step - loss: 0.0299\n",
            "Epoch 59/100\n",
            "133/133 [==============================] - 1s 7ms/step - loss: 0.0292\n",
            "Epoch 60/100\n",
            "133/133 [==============================] - 1s 7ms/step - loss: 0.0298\n",
            "Epoch 61/100\n",
            "133/133 [==============================] - 1s 8ms/step - loss: 0.0296\n",
            "Epoch 62/100\n",
            "133/133 [==============================] - 1s 5ms/step - loss: 0.0292\n",
            "Epoch 63/100\n",
            "133/133 [==============================] - 1s 5ms/step - loss: 0.0299\n",
            "Epoch 64/100\n",
            "133/133 [==============================] - 1s 5ms/step - loss: 0.0294\n",
            "Epoch 65/100\n",
            "133/133 [==============================] - 1s 5ms/step - loss: 0.0291\n",
            "Epoch 66/100\n",
            "133/133 [==============================] - 1s 5ms/step - loss: 0.0293\n",
            "Epoch 67/100\n",
            "133/133 [==============================] - 1s 5ms/step - loss: 0.0293\n",
            "Epoch 68/100\n",
            "133/133 [==============================] - 1s 5ms/step - loss: 0.0294\n",
            "Epoch 69/100\n",
            "133/133 [==============================] - 1s 5ms/step - loss: 0.0301\n",
            "Epoch 70/100\n",
            "133/133 [==============================] - 1s 5ms/step - loss: 0.0294\n",
            "Epoch 71/100\n",
            "133/133 [==============================] - 1s 5ms/step - loss: 0.0296\n",
            "Epoch 72/100\n",
            "133/133 [==============================] - 1s 5ms/step - loss: 0.0294\n",
            "Epoch 73/100\n",
            "133/133 [==============================] - 1s 5ms/step - loss: 0.0293\n",
            "Epoch 74/100\n",
            "133/133 [==============================] - 1s 6ms/step - loss: 0.0294\n",
            "Epoch 75/100\n",
            "133/133 [==============================] - 1s 5ms/step - loss: 0.0294\n",
            "Epoch 76/100\n",
            "133/133 [==============================] - 1s 7ms/step - loss: 0.0297\n",
            "Epoch 77/100\n",
            "133/133 [==============================] - 1s 7ms/step - loss: 0.0293\n",
            "Epoch 78/100\n",
            "133/133 [==============================] - 1s 7ms/step - loss: 0.0293\n",
            "Epoch 79/100\n",
            "133/133 [==============================] - 1s 5ms/step - loss: 0.0296\n",
            "Epoch 80/100\n",
            "133/133 [==============================] - 1s 5ms/step - loss: 0.0296\n",
            "Epoch 81/100\n",
            "133/133 [==============================] - 1s 5ms/step - loss: 0.0293\n",
            "Epoch 82/100\n",
            "133/133 [==============================] - 1s 5ms/step - loss: 0.0293\n",
            "Epoch 83/100\n",
            "133/133 [==============================] - 1s 5ms/step - loss: 0.0296\n",
            "Epoch 84/100\n",
            "133/133 [==============================] - 1s 5ms/step - loss: 0.0293\n",
            "Epoch 85/100\n",
            "133/133 [==============================] - 1s 5ms/step - loss: 0.0294\n",
            "Epoch 86/100\n",
            "133/133 [==============================] - 1s 5ms/step - loss: 0.0299\n",
            "Epoch 87/100\n",
            "133/133 [==============================] - 1s 5ms/step - loss: 0.0293\n",
            "Epoch 88/100\n",
            "133/133 [==============================] - 1s 5ms/step - loss: 0.0293\n",
            "Epoch 89/100\n",
            "133/133 [==============================] - 1s 7ms/step - loss: 0.0293\n",
            "Epoch 90/100\n",
            "133/133 [==============================] - 2s 12ms/step - loss: 0.0293\n",
            "Epoch 91/100\n",
            "133/133 [==============================] - 1s 8ms/step - loss: 0.0292\n",
            "Epoch 92/100\n",
            "133/133 [==============================] - 1s 8ms/step - loss: 0.0294\n",
            "Epoch 93/100\n",
            "133/133 [==============================] - 1s 7ms/step - loss: 0.0298\n",
            "Epoch 94/100\n",
            "133/133 [==============================] - 1s 5ms/step - loss: 0.0291\n",
            "Epoch 95/100\n",
            "133/133 [==============================] - 1s 5ms/step - loss: 0.0292\n",
            "Epoch 96/100\n",
            "133/133 [==============================] - 1s 5ms/step - loss: 0.0296\n",
            "Epoch 97/100\n",
            "133/133 [==============================] - 1s 5ms/step - loss: 0.0290\n",
            "Epoch 98/100\n",
            "133/133 [==============================] - 1s 5ms/step - loss: 0.0293\n",
            "Epoch 99/100\n",
            "133/133 [==============================] - 1s 5ms/step - loss: 0.0293\n",
            "Epoch 100/100\n",
            "133/133 [==============================] - 1s 5ms/step - loss: 0.0294\n"
          ]
        },
        {
          "output_type": "execute_result",
          "data": {
            "text/plain": [
              "<keras.src.callbacks.History at 0x7974539e0b20>"
            ]
          },
          "metadata": {},
          "execution_count": 51
        }
      ]
    },
    {
      "cell_type": "code",
      "source": [
        "# Predictions\n",
        "lstm_predictions = lstm_model.predict(X_test_lstm)"
      ],
      "metadata": {
        "id": "zUn4HkBwEKf7",
        "colab": {
          "base_uri": "https://localhost:8080/"
        },
        "outputId": "3ee073f3-6670-461b-ad61-8d0c36de3134"
      },
      "execution_count": null,
      "outputs": [
        {
          "output_type": "stream",
          "name": "stdout",
          "text": [
            "34/34 [==============================] - 2s 5ms/step\n"
          ]
        }
      ]
    },
    {
      "cell_type": "code",
      "source": [
        "# Visualization (assuming you want to visualize predictions)\n",
        "plt.plot(test_data.index, test_data['Open_StockPrice'], label='Actual')\n",
        "plt.plot(test_data.index, lstm_predictions, label='LSTM')\n",
        "plt.legend()\n",
        "plt.show()"
      ],
      "metadata": {
        "colab": {
          "base_uri": "https://localhost:8080/",
          "height": 430
        },
        "id": "WRvsf8rwPhzg",
        "outputId": "62525afb-89da-4649-d4ad-ee2eac6db30d"
      },
      "execution_count": null,
      "outputs": [
        {
          "output_type": "display_data",
          "data": {
            "text/plain": [
              "<Figure size 640x480 with 1 Axes>"
            ],
            "image/png": "[encoded data removed]"
          },
          "metadata": {}
        }
      ]
    },
    {
      "cell_type": "code",
      "source": [
        "# Visualization (assuming you want to visualize predictions)\n",
        "plt.plot(test_data.index, test_data['Close_StockPrice'], label='Actual')\n",
        "plt.plot(test_data.index, lstm_predictions, label='LSTM')\n",
        "plt.legend()\n",
        "plt.show()"
      ],
      "metadata": {
        "colab": {
          "base_uri": "https://localhost:8080/",
          "height": 430
        },
        "id": "DzgPSE1NPq6T",
        "outputId": "0505ab59-27ef-40e7-a754-3c04d17770d5"
      },
      "execution_count": null,
      "outputs": [
        {
          "output_type": "display_data",
          "data": {
            "text/plain": [
              "<Figure size 640x480 with 1 Axes>"
            ],
            "image/png": "[encoded data removed]"
          },
          "metadata": {}
        }
      ]
    },
    {
      "cell_type": "code",
      "source": [
        "import pandas as pd\n",
        "import matplotlib.pyplot as plt\n",
        "\n",
        "# Assuming your CSV data is loaded into a DataFrame called df\n",
        "# Filter data for a specific company, replace 'Company_Name' with the actual name of the company\n",
        "company_data = data[data['Stock Series'] == 'NIFTY']\n",
        "\n",
        "# Reset the index to use the row numbers as x-axis values\n",
        "company_data.reset_index(drop=True, inplace=True)\n",
        "\n",
        "# Visualization for the specific company\n",
        "plt.plot(company_data.index, company_data['Close_StockPrice'], label='Actual')\n",
        "plt.xlabel('Index')\n",
        "plt.ylabel('Stock Price')\n",
        "plt.title('Stock Price for company_data')\n",
        "plt.legend()\n",
        "plt.show()\n"
      ],
      "metadata": {
        "id": "rnH76eiJIsyA"
      },
      "execution_count": null,
      "outputs": []
    }
  ]
}